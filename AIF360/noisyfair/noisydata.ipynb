{
 "cells": [
  {
   "cell_type": "code",
   "execution_count": 2,
   "metadata": {},
   "outputs": [],
   "source": [
    "%matplotlib inline\n",
    "# Load all necessary packages\n",
    "import sys\n",
    "sys.path.append(\"../\")\n",
    "import aif360.datasets.noisy_dataset as noisy\n",
    "import noisyfair.algorithms as denoisedfair\n",
    "from aif360.datasets import BinaryLabelDataset\n",
    "from aif360.datasets import AdultDataset, CompasDataset\n",
    "# from aif360.metrics import BinaryLabelDatasetMetric\n",
    "# from aif360.metrics import ClassificationMetric\n",
    "# from aif360.metrics.utils import compute_boolean_conditioning_vector\n",
    "\n",
    "from aif360.algorithms.preprocessing.optim_preproc_helpers.data_preproc_functions import load_preproc_data_adult, load_preproc_data_compas\n",
    "\n",
    "# from sklearn.linear_model import LogisticRegression\n",
    "# from sklearn.preprocessing import StandardScaler, MaxAbsScaler\n",
    "# from sklearn.metrics import accuracy_score\n",
    "\n",
    "# from IPython.display import Markdown, display\n",
    "import matplotlib.pyplot as plt\n",
    "import numpy as np\n"
   ]
  },
  {
   "cell_type": "code",
   "execution_count": 6,
   "metadata": {},
   "outputs": [
    {
     "name": "stdout",
     "output_type": "stream",
     "text": [
      "Count_flipping: 4479\n",
      "index: 0\n",
      "27801.0 29210.0 12552.0\n",
      "[3396.] (14653, 1)\n"
     ]
    }
   ],
   "source": [
    "# Get the dataset and split into train and test\n",
    "dataset = load_preproc_data_adult()\n",
    "\n",
    "protected_name = 'race'\n",
    "privileged_groups = [{protected_name: 1}]\n",
    "unprivileged_groups = [{protected_name: 0}]\n",
    "\n",
    "dataset_train, dataset_test = dataset.split([0.7], shuffle=True)\n",
    "eta1 = 0.3\n",
    "eta2 = 0.1\n",
    "index, noisyfea = noisy.flipping(dataset_train.feature_names, dataset_train.features, protected_name, eta1, eta2)\n",
    "\n",
    "dataset_noisy = np.copy(dataset_train.features)\n",
    "dataset_noisy[:,index] = noisyfea\n",
    "\n",
    "print(\"index:\", index)\n",
    "print(sum(dataset_noisy[:,index]), sum(dataset_train.features[:,index]), sum(dataset_test.features[:,index]))\n",
    "print(sum(dataset_test.labels), dataset_test.labels.shape)"
   ]
  },
  {
   "cell_type": "code",
   "execution_count": 3,
   "metadata": {},
   "outputs": [
    {
     "name": "stdout",
     "output_type": "stream",
     "text": [
      "[ 1.30901083 -3.13813223 -1.00342494  0.70108146  1.16623278  1.39113965\n",
      "  0.90497257  0.41944302 -1.00003484 -0.90223678 -0.63812176  0.1136199\n",
      "  0.60693325  0.80209268  0.85376458 -1.2549231   1.75613526 -3.46644861]\n",
      "sr0: 0.22262471537983855 sr1: 0.24528071105312513\n",
      "0.7287431630056451 0.9076323793419714\n",
      "sr0: 0.19175591028490604 sr1: 0.24404924760601915\n",
      "0.7294451431747053 0.7857262915822103\n",
      "sr0: 0.19380572501173157 sr1: 0.25187669701325666\n",
      "0.7213539889442435 0.7694468258075152\n"
     ]
    }
   ],
   "source": [
    "# zvrg\n",
    "C = 0\n",
    "thresh = 0.1\n",
    "zvrg_theta = denoisedfair.zvrg(dataset_noisy, dataset_train.labels, index, C, thresh)\n",
    "\n",
    "print(zvrg_theta)\n",
    "\n",
    "acc, sr = denoisedfair.testing(dataset_noisy, dataset_train.labels, index, zvrg_theta)\n",
    "print(acc, sr)\n",
    "\n",
    "acc, sr = denoisedfair.testing(dataset_train.features, dataset_train.labels, index, zvrg_theta)\n",
    "print(acc, sr)\n",
    "\n",
    "acc, sr = denoisedfair.testing(dataset_test.features, dataset_test.labels, index, zvrg_theta)\n",
    "print(acc, sr)"
   ]
  },
  {
   "cell_type": "code",
   "execution_count": 4,
   "metadata": {},
   "outputs": [
    {
     "name": "stdout",
     "output_type": "stream",
     "text": [
      "Optimization terminated successfully.    (Exit mode 0)\n",
      "            Current function value: 0.7923736287751326\n",
      "            Iterations: 71\n",
      "            Function evaluations: 71\n",
      "            Gradient evaluations: 71\n",
      "[-0.21619628 -1.05538342  0.35319016  0.76357661  1.01352458  0.95408476\n",
      "  0.35140674 -0.10515213  0.29476184  0.47618543  0.54809863  0.00898934\n",
      "  0.14767229  0.14035534  0.29043492  0.0739007   0.65099141 -0.28642564]\n",
      "sr0: 0.6036017387704409 sr1: 0.6003587882741469\n",
      "0.47883822282020533 0.9946273340714691\n",
      "sr0: 0.5968882602545968 sr1: 0.6008207934336526\n",
      "0.47693702652900055 0.9934547318900507\n",
      "sr0: 0.6025340215861098 sr1: 0.5991854336367992\n",
      "0.48604381355353854 0.994442491495342\n"
     ]
    }
   ],
   "source": [
    "# denoised fair\n",
    "tau = 0.8\n",
    "lam = 0.1\n",
    "C = 0\n",
    "denoised_theta = denoisedfair.denoised(dataset_noisy, dataset_train.labels, index, C, tau, eta, lam)\n",
    "print(denoised_theta)\n",
    "\n",
    "acc, sr = denoisedfair.testing(dataset_noisy, dataset_train.labels, index, denoised_theta)\n",
    "print(acc, sr)\n",
    "\n",
    "acc, sr = denoisedfair.testing(dataset_train.features, dataset_train.labels, index, denoised_theta)\n",
    "print(acc, sr)\n",
    "\n",
    "acc, sr = denoisedfair.testing(dataset_test.features, dataset_test.labels, index, denoised_theta)\n",
    "print(acc, sr)"
   ]
  },
  {
   "cell_type": "code",
   "execution_count": null,
   "metadata": {},
   "outputs": [],
   "source": []
  }
 ],
 "metadata": {
  "kernelspec": {
   "display_name": "Python 3",
   "language": "python",
   "name": "python3"
  },
  "language_info": {
   "codemirror_mode": {
    "name": "ipython",
    "version": 3
   },
   "file_extension": ".py",
   "mimetype": "text/x-python",
   "name": "python",
   "nbconvert_exporter": "python",
   "pygments_lexer": "ipython3",
   "version": "3.7.7"
  }
 },
 "nbformat": 4,
 "nbformat_minor": 4
}
