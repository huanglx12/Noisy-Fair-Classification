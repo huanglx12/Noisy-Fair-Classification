{
 "cells": [
  {
   "cell_type": "markdown",
   "metadata": {},
   "source": [
    "#### This notebook demonstrates the use of adversarial debiasing algorithm to learn a fair classifier.\n",
    "Adversarial debiasing [1] is an in-processing technique that learns a classifier to maximize prediction accuracy and simultaneously reduce an adversary's ability to determine the protected attribute from the predictions. This approach leads to a fair classifier as the predictions cannot carry any group discrimination information that the adversary can exploit. We will see how to use this algorithm for learning models with and without fairness constraints and apply them on the Adult dataset."
   ]
  },
  {
   "cell_type": "code",
   "execution_count": 1,
   "metadata": {},
   "outputs": [],
   "source": [
    "%matplotlib inline\n",
    "# Load all necessary packages\n",
    "import sys\n",
    "sys.path.append(\"../\")\n",
    "import aif360.datasets.noisy_dataset as noisy\n",
    "from aif360.datasets import BinaryLabelDataset\n",
    "from aif360.datasets import AdultDataset, GermanDataset, CompasDataset\n",
    "from aif360.metrics import BinaryLabelDatasetMetric\n",
    "from aif360.metrics import ClassificationMetric\n",
    "from aif360.metrics.utils import compute_boolean_conditioning_vector\n",
    "\n",
    "from aif360.algorithms.preprocessing.optim_preproc_helpers.data_preproc_functions import load_preproc_data_adult, load_preproc_data_compas, load_preproc_data_german\n",
    "\n",
    "from aif360.algorithms.inprocessing.adversarial_debiasing import AdversarialDebiasing\n",
    "\n",
    "from sklearn.linear_model import LogisticRegression\n",
    "from sklearn.preprocessing import StandardScaler, MaxAbsScaler\n",
    "from sklearn.metrics import accuracy_score\n",
    "\n",
    "from IPython.display import Markdown, display\n",
    "import matplotlib.pyplot as plt\n",
    "\n",
    "import tensorflow as tf"
   ]
  },
  {
   "cell_type": "markdown",
   "metadata": {},
   "source": [
    "#### Load dataset and set options"
   ]
  },
  {
   "cell_type": "code",
   "execution_count": 2,
   "metadata": {},
   "outputs": [
    {
     "name": "stdout",
     "output_type": "stream",
     "text": [
      "(3694, 10)\n",
      "(1584, 10)\n"
     ]
    },
    {
     "ename": "TypeError",
     "evalue": "flipping() missing 1 required positional argument: 'eta1'",
     "output_type": "error",
     "traceback": [
      "\u001b[1;31m---------------------------------------------------------------------------\u001b[0m",
      "\u001b[1;31mTypeError\u001b[0m                                 Traceback (most recent call last)",
      "\u001b[1;32m<ipython-input-2-c3d585da8033>\u001b[0m in \u001b[0;36m<module>\u001b[1;34m\u001b[0m\n\u001b[0;32m     10\u001b[0m \u001b[0mprint\u001b[0m\u001b[1;33m(\u001b[0m\u001b[0mdataset_orig_train\u001b[0m\u001b[1;33m.\u001b[0m\u001b[0mfeatures\u001b[0m\u001b[1;33m.\u001b[0m\u001b[0mshape\u001b[0m\u001b[1;33m)\u001b[0m\u001b[1;33m\u001b[0m\u001b[1;33m\u001b[0m\u001b[0m\n\u001b[0;32m     11\u001b[0m \u001b[0mprint\u001b[0m\u001b[1;33m(\u001b[0m\u001b[0mdataset_orig_test\u001b[0m\u001b[1;33m.\u001b[0m\u001b[0mfeatures\u001b[0m\u001b[1;33m.\u001b[0m\u001b[0mshape\u001b[0m\u001b[1;33m)\u001b[0m\u001b[1;33m\u001b[0m\u001b[1;33m\u001b[0m\u001b[0m\n\u001b[1;32m---> 12\u001b[1;33m \u001b[0mindex\u001b[0m\u001b[1;33m,\u001b[0m \u001b[0mnoisyfea\u001b[0m \u001b[1;33m=\u001b[0m \u001b[0mnoisy\u001b[0m\u001b[1;33m.\u001b[0m\u001b[0mflipping\u001b[0m\u001b[1;33m(\u001b[0m\u001b[0mdataset_orig_train\u001b[0m\u001b[1;33m.\u001b[0m\u001b[0mfeature_names\u001b[0m\u001b[1;33m,\u001b[0m \u001b[0mdataset_orig_train\u001b[0m\u001b[1;33m.\u001b[0m\u001b[0mfeatures\u001b[0m\u001b[1;33m,\u001b[0m \u001b[0mattr\u001b[0m\u001b[1;33m,\u001b[0m \u001b[0meta\u001b[0m\u001b[1;33m)\u001b[0m\u001b[1;33m\u001b[0m\u001b[1;33m\u001b[0m\u001b[0m\n\u001b[0m\u001b[0;32m     13\u001b[0m \u001b[0mprint\u001b[0m\u001b[1;33m(\u001b[0m\u001b[0msum\u001b[0m\u001b[1;33m(\u001b[0m\u001b[0mdataset_orig_train\u001b[0m\u001b[1;33m.\u001b[0m\u001b[0mfeatures\u001b[0m\u001b[1;33m[\u001b[0m\u001b[1;33m:\u001b[0m\u001b[1;33m,\u001b[0m\u001b[0mindex\u001b[0m\u001b[1;33m]\u001b[0m\u001b[1;33m)\u001b[0m\u001b[1;33m)\u001b[0m\u001b[1;33m\u001b[0m\u001b[1;33m\u001b[0m\u001b[0m\n\u001b[0;32m     14\u001b[0m \u001b[1;33m\u001b[0m\u001b[0m\n",
      "\u001b[1;31mTypeError\u001b[0m: flipping() missing 1 required positional argument: 'eta1'"
     ]
    }
   ],
   "source": [
    "# Get the dataset and split into train and test\n",
    "dataset_orig = load_preproc_data_compas()\n",
    "\n",
    "attr = 'sex'\n",
    "eta = 0.4\n",
    "privileged_groups = [{attr: 1}]\n",
    "unprivileged_groups = [{attr: 0}]\n",
    "\n",
    "dataset_orig_train, dataset_orig_test = dataset_orig.split([0.7], shuffle=True)\n",
    "print(dataset_orig_train.features.shape)\n",
    "print(dataset_orig_test.features.shape)\n",
    "index, noisyfea = noisy.flipping(dataset_orig_train.feature_names, dataset_orig_train.features, attr, eta)\n",
    "print(sum(dataset_orig_train.features[:,index]))\n",
    "\n",
    "dataset_orig_train.features[:,index] = noisyfea\n",
    "print(sum(dataset_orig_train.features[:,index]))"
   ]
  },
  {
   "cell_type": "code",
   "execution_count": 3,
   "metadata": {},
   "outputs": [
    {
     "data": {
      "text/markdown": [
       "#### Training Dataset shape"
      ],
      "text/plain": [
       "<IPython.core.display.Markdown object>"
      ]
     },
     "metadata": {},
     "output_type": "display_data"
    },
    {
     "name": "stdout",
     "output_type": "stream",
     "text": [
      "(34189, 18)\n"
     ]
    },
    {
     "data": {
      "text/markdown": [
       "#### Favorable and unfavorable labels"
      ],
      "text/plain": [
       "<IPython.core.display.Markdown object>"
      ]
     },
     "metadata": {},
     "output_type": "display_data"
    },
    {
     "name": "stdout",
     "output_type": "stream",
     "text": [
      "1.0 0.0\n"
     ]
    },
    {
     "data": {
      "text/markdown": [
       "#### Protected attribute names"
      ],
      "text/plain": [
       "<IPython.core.display.Markdown object>"
      ]
     },
     "metadata": {},
     "output_type": "display_data"
    },
    {
     "name": "stdout",
     "output_type": "stream",
     "text": [
      "['sex', 'race']\n"
     ]
    },
    {
     "data": {
      "text/markdown": [
       "#### Privileged and unprivileged protected attribute values"
      ],
      "text/plain": [
       "<IPython.core.display.Markdown object>"
      ]
     },
     "metadata": {},
     "output_type": "display_data"
    },
    {
     "name": "stdout",
     "output_type": "stream",
     "text": [
      "[array([1.]), array([1.])] [array([0.]), array([0.])]\n"
     ]
    },
    {
     "data": {
      "text/markdown": [
       "#### Dataset feature names"
      ],
      "text/plain": [
       "<IPython.core.display.Markdown object>"
      ]
     },
     "metadata": {},
     "output_type": "display_data"
    },
    {
     "name": "stdout",
     "output_type": "stream",
     "text": [
      "['race', 'sex', 'Age (decade)=10', 'Age (decade)=20', 'Age (decade)=30', 'Age (decade)=40', 'Age (decade)=50', 'Age (decade)=60', 'Age (decade)=>=70', 'Education Years=6', 'Education Years=7', 'Education Years=8', 'Education Years=9', 'Education Years=10', 'Education Years=11', 'Education Years=12', 'Education Years=<6', 'Education Years=>12']\n"
     ]
    }
   ],
   "source": [
    "# print out some labels, names, etc.\n",
    "display(Markdown(\"#### Training Dataset shape\"))\n",
    "print(dataset_orig_train.features.shape)\n",
    "display(Markdown(\"#### Favorable and unfavorable labels\"))\n",
    "print(dataset_orig_train.favorable_label, dataset_orig_train.unfavorable_label)\n",
    "display(Markdown(\"#### Protected attribute names\"))\n",
    "print(dataset_orig_train.protected_attribute_names)\n",
    "display(Markdown(\"#### Privileged and unprivileged protected attribute values\"))\n",
    "print(dataset_orig_train.privileged_protected_attributes, \n",
    "      dataset_orig_train.unprivileged_protected_attributes)\n",
    "display(Markdown(\"#### Dataset feature names\"))\n",
    "print(dataset_orig_train.feature_names)"
   ]
  },
  {
   "cell_type": "markdown",
   "metadata": {},
   "source": [
    "#### Metric for original training data"
   ]
  },
  {
   "cell_type": "code",
   "execution_count": 4,
   "metadata": {},
   "outputs": [
    {
     "data": {
      "text/markdown": [
       "#### Original training dataset"
      ],
      "text/plain": [
       "<IPython.core.display.Markdown object>"
      ]
     },
     "metadata": {},
     "output_type": "display_data"
    },
    {
     "name": "stdout",
     "output_type": "stream",
     "text": [
      "Train set: Difference in mean outcomes between unprivileged and privileged groups = -0.195452\n",
      "Test set: Difference in mean outcomes between unprivileged and privileged groups = -0.192337\n"
     ]
    }
   ],
   "source": [
    "# Metric for the original dataset\n",
    "metric_orig_train = BinaryLabelDatasetMetric(dataset_orig_train, \n",
    "                                             unprivileged_groups=unprivileged_groups,\n",
    "                                             privileged_groups=privileged_groups)\n",
    "display(Markdown(\"#### Original training dataset\"))\n",
    "print(\"Train set: Difference in mean outcomes between unprivileged and privileged groups = %f\" % metric_orig_train.mean_difference())\n",
    "metric_orig_test = BinaryLabelDatasetMetric(dataset_orig_test, \n",
    "                                             unprivileged_groups=unprivileged_groups,\n",
    "                                             privileged_groups=privileged_groups)\n",
    "print(\"Test set: Difference in mean outcomes between unprivileged and privileged groups = %f\" % metric_orig_test.mean_difference())"
   ]
  },
  {
   "cell_type": "code",
   "execution_count": 5,
   "metadata": {},
   "outputs": [
    {
     "data": {
      "text/markdown": [
       "#### Scaled dataset - Verify that the scaling does not affect the group label statistics"
      ],
      "text/plain": [
       "<IPython.core.display.Markdown object>"
      ]
     },
     "metadata": {},
     "output_type": "display_data"
    },
    {
     "name": "stdout",
     "output_type": "stream",
     "text": [
      "Train set: Difference in mean outcomes between unprivileged and privileged groups = -0.195452\n",
      "Test set: Difference in mean outcomes between unprivileged and privileged groups = -0.192337\n"
     ]
    }
   ],
   "source": [
    "min_max_scaler = MaxAbsScaler()\n",
    "dataset_orig_train.features = min_max_scaler.fit_transform(dataset_orig_train.features)\n",
    "dataset_orig_test.features = min_max_scaler.transform(dataset_orig_test.features)\n",
    "metric_scaled_train = BinaryLabelDatasetMetric(dataset_orig_train, \n",
    "                             unprivileged_groups=unprivileged_groups,\n",
    "                             privileged_groups=privileged_groups)\n",
    "display(Markdown(\"#### Scaled dataset - Verify that the scaling does not affect the group label statistics\"))\n",
    "print(\"Train set: Difference in mean outcomes between unprivileged and privileged groups = %f\" % metric_scaled_train.mean_difference())\n",
    "metric_scaled_test = BinaryLabelDatasetMetric(dataset_orig_test, \n",
    "                             unprivileged_groups=unprivileged_groups,\n",
    "                             privileged_groups=privileged_groups)\n",
    "print(\"Test set: Difference in mean outcomes between unprivileged and privileged groups = %f\" % metric_scaled_test.mean_difference())\n"
   ]
  },
  {
   "cell_type": "markdown",
   "metadata": {},
   "source": [
    "### Learn plan classifier without debiasing"
   ]
  },
  {
   "cell_type": "code",
   "execution_count": 6,
   "metadata": {},
   "outputs": [
    {
     "name": "stdout",
     "output_type": "stream",
     "text": [
      "None\n"
     ]
    }
   ],
   "source": [
    "# Load post-processing algorithm that equalizes the odds\n",
    "# Learn parameters with debias set to False\n",
    "sess = tf.compat.v1.Session()\n",
    "plain_model = AdversarialDebiasing(privileged_groups = privileged_groups,\n",
    "                          unprivileged_groups = unprivileged_groups,\n",
    "                          scope_name='plain_classifier',\n",
    "                          debias=False,\n",
    "                          sess=sess)\n",
    "\n",
    "print(plain_model.features_dim)"
   ]
  },
  {
   "cell_type": "code",
   "execution_count": 7,
   "metadata": {
    "scrolled": true
   },
   "outputs": [
    {
     "name": "stdout",
     "output_type": "stream",
     "text": [
      "WARNING:tensorflow:\n",
      "The TensorFlow contrib module will not be included in TensorFlow 2.0.\n",
      "For more information, please see:\n",
      "  * https://github.com/tensorflow/community/blob/master/rfcs/20180907-contrib-sunset.md\n",
      "  * https://github.com/tensorflow/addons\n",
      "  * https://github.com/tensorflow/io (for I/O related ops)\n",
      "If you depend on functionality not listed there, please file an issue.\n",
      "\n",
      "WARNING:tensorflow:From c:\\anaconda3\\envs\\environment-3.7\\lib\\site-packages\\tensorflow_core\\python\\ops\\nn_impl.py:183: where (from tensorflow.python.ops.array_ops) is deprecated and will be removed in a future version.\n",
      "Instructions for updating:\n",
      "Use tf.where in 2.0, which has the same broadcast rule as np.where\n",
      "epoch 0; iter: 0; batch classifier loss: 0.704820\n",
      "epoch 0; iter: 200; batch classifier loss: 0.468870\n",
      "epoch 1; iter: 0; batch classifier loss: 0.552753\n",
      "epoch 1; iter: 200; batch classifier loss: 0.441795\n",
      "epoch 2; iter: 0; batch classifier loss: 0.403445\n",
      "epoch 2; iter: 200; batch classifier loss: 0.520689\n",
      "epoch 3; iter: 0; batch classifier loss: 0.441196\n",
      "epoch 3; iter: 200; batch classifier loss: 0.495462\n",
      "epoch 4; iter: 0; batch classifier loss: 0.442348\n",
      "epoch 4; iter: 200; batch classifier loss: 0.344197\n",
      "epoch 5; iter: 0; batch classifier loss: 0.453688\n",
      "epoch 5; iter: 200; batch classifier loss: 0.403109\n",
      "epoch 6; iter: 0; batch classifier loss: 0.491195\n",
      "epoch 6; iter: 200; batch classifier loss: 0.396803\n",
      "epoch 7; iter: 0; batch classifier loss: 0.469514\n",
      "epoch 7; iter: 200; batch classifier loss: 0.478944\n",
      "epoch 8; iter: 0; batch classifier loss: 0.516724\n",
      "epoch 8; iter: 200; batch classifier loss: 0.561622\n",
      "epoch 9; iter: 0; batch classifier loss: 0.331568\n",
      "epoch 9; iter: 200; batch classifier loss: 0.355902\n",
      "epoch 10; iter: 0; batch classifier loss: 0.407149\n",
      "epoch 10; iter: 200; batch classifier loss: 0.459648\n",
      "epoch 11; iter: 0; batch classifier loss: 0.394953\n",
      "epoch 11; iter: 200; batch classifier loss: 0.445553\n",
      "epoch 12; iter: 0; batch classifier loss: 0.418806\n",
      "epoch 12; iter: 200; batch classifier loss: 0.452648\n",
      "epoch 13; iter: 0; batch classifier loss: 0.499696\n",
      "epoch 13; iter: 200; batch classifier loss: 0.427525\n",
      "epoch 14; iter: 0; batch classifier loss: 0.401950\n",
      "epoch 14; iter: 200; batch classifier loss: 0.411488\n",
      "epoch 15; iter: 0; batch classifier loss: 0.410317\n",
      "epoch 15; iter: 200; batch classifier loss: 0.495343\n",
      "epoch 16; iter: 0; batch classifier loss: 0.466258\n",
      "epoch 16; iter: 200; batch classifier loss: 0.420572\n",
      "epoch 17; iter: 0; batch classifier loss: 0.427660\n",
      "epoch 17; iter: 200; batch classifier loss: 0.474241\n",
      "epoch 18; iter: 0; batch classifier loss: 0.465578\n",
      "epoch 18; iter: 200; batch classifier loss: 0.387472\n",
      "epoch 19; iter: 0; batch classifier loss: 0.394242\n",
      "epoch 19; iter: 200; batch classifier loss: 0.399437\n",
      "epoch 20; iter: 0; batch classifier loss: 0.503165\n",
      "epoch 20; iter: 200; batch classifier loss: 0.352384\n",
      "epoch 21; iter: 0; batch classifier loss: 0.453008\n",
      "epoch 21; iter: 200; batch classifier loss: 0.357504\n",
      "epoch 22; iter: 0; batch classifier loss: 0.499154\n",
      "epoch 22; iter: 200; batch classifier loss: 0.357886\n",
      "epoch 23; iter: 0; batch classifier loss: 0.526087\n",
      "epoch 23; iter: 200; batch classifier loss: 0.463132\n",
      "epoch 24; iter: 0; batch classifier loss: 0.473327\n",
      "epoch 24; iter: 200; batch classifier loss: 0.431952\n",
      "epoch 25; iter: 0; batch classifier loss: 0.470393\n",
      "epoch 25; iter: 200; batch classifier loss: 0.348147\n",
      "epoch 26; iter: 0; batch classifier loss: 0.324625\n",
      "epoch 26; iter: 200; batch classifier loss: 0.472920\n",
      "epoch 27; iter: 0; batch classifier loss: 0.494367\n",
      "epoch 27; iter: 200; batch classifier loss: 0.428044\n",
      "epoch 28; iter: 0; batch classifier loss: 0.463764\n",
      "epoch 28; iter: 200; batch classifier loss: 0.416771\n",
      "epoch 29; iter: 0; batch classifier loss: 0.455524\n",
      "epoch 29; iter: 200; batch classifier loss: 0.424120\n",
      "epoch 30; iter: 0; batch classifier loss: 0.409404\n",
      "epoch 30; iter: 200; batch classifier loss: 0.431315\n",
      "epoch 31; iter: 0; batch classifier loss: 0.496161\n",
      "epoch 31; iter: 200; batch classifier loss: 0.437182\n",
      "epoch 32; iter: 0; batch classifier loss: 0.491531\n",
      "epoch 32; iter: 200; batch classifier loss: 0.414853\n",
      "epoch 33; iter: 0; batch classifier loss: 0.433399\n",
      "epoch 33; iter: 200; batch classifier loss: 0.474425\n",
      "epoch 34; iter: 0; batch classifier loss: 0.455484\n",
      "epoch 34; iter: 200; batch classifier loss: 0.364787\n",
      "epoch 35; iter: 0; batch classifier loss: 0.390165\n",
      "epoch 35; iter: 200; batch classifier loss: 0.517043\n",
      "epoch 36; iter: 0; batch classifier loss: 0.463286\n",
      "epoch 36; iter: 200; batch classifier loss: 0.312997\n",
      "epoch 37; iter: 0; batch classifier loss: 0.452492\n",
      "epoch 37; iter: 200; batch classifier loss: 0.454171\n",
      "epoch 38; iter: 0; batch classifier loss: 0.480556\n",
      "epoch 38; iter: 200; batch classifier loss: 0.374418\n",
      "epoch 39; iter: 0; batch classifier loss: 0.435514\n",
      "epoch 39; iter: 200; batch classifier loss: 0.422474\n",
      "epoch 40; iter: 0; batch classifier loss: 0.479742\n",
      "epoch 40; iter: 200; batch classifier loss: 0.429005\n",
      "epoch 41; iter: 0; batch classifier loss: 0.385261\n",
      "epoch 41; iter: 200; batch classifier loss: 0.413802\n",
      "epoch 42; iter: 0; batch classifier loss: 0.479824\n",
      "epoch 42; iter: 200; batch classifier loss: 0.430005\n",
      "epoch 43; iter: 0; batch classifier loss: 0.431114\n",
      "epoch 43; iter: 200; batch classifier loss: 0.440368\n",
      "epoch 44; iter: 0; batch classifier loss: 0.436844\n",
      "epoch 44; iter: 200; batch classifier loss: 0.460170\n",
      "epoch 45; iter: 0; batch classifier loss: 0.360598\n",
      "epoch 45; iter: 200; batch classifier loss: 0.358165\n",
      "epoch 46; iter: 0; batch classifier loss: 0.413391\n",
      "epoch 46; iter: 200; batch classifier loss: 0.429535\n",
      "epoch 47; iter: 0; batch classifier loss: 0.440518\n",
      "epoch 47; iter: 200; batch classifier loss: 0.464193\n",
      "epoch 48; iter: 0; batch classifier loss: 0.399238\n",
      "epoch 48; iter: 200; batch classifier loss: 0.488723\n",
      "epoch 49; iter: 0; batch classifier loss: 0.528453\n",
      "epoch 49; iter: 200; batch classifier loss: 0.428784\n"
     ]
    },
    {
     "data": {
      "text/plain": [
       "<aif360.algorithms.inprocessing.adversarial_debiasing.AdversarialDebiasing at 0x199c55a6a48>"
      ]
     },
     "execution_count": 7,
     "metadata": {},
     "output_type": "execute_result"
    }
   ],
   "source": [
    "plain_model.fit(dataset_orig_train)"
   ]
  },
  {
   "cell_type": "code",
   "execution_count": 8,
   "metadata": {},
   "outputs": [],
   "source": [
    "# Apply the plain model to test data\n",
    "dataset_nodebiasing_train = plain_model.predict(dataset_orig_train)\n",
    "dataset_nodebiasing_test = plain_model.predict(dataset_orig_test)"
   ]
  },
  {
   "cell_type": "code",
   "execution_count": 9,
   "metadata": {},
   "outputs": [
    {
     "data": {
      "text/markdown": [
       "#### Plain model - without debiasing - dataset metrics"
      ],
      "text/plain": [
       "<IPython.core.display.Markdown object>"
      ]
     },
     "metadata": {},
     "output_type": "display_data"
    },
    {
     "name": "stdout",
     "output_type": "stream",
     "text": [
      "Train set: Difference in mean outcomes between unprivileged and privileged groups = -0.066547\n",
      "Test set: Difference in mean outcomes between unprivileged and privileged groups = -0.062289\n"
     ]
    },
    {
     "data": {
      "text/markdown": [
       "#### Plain model - without debiasing - classification metrics"
      ],
      "text/plain": [
       "<IPython.core.display.Markdown object>"
      ]
     },
     "metadata": {},
     "output_type": "display_data"
    },
    {
     "name": "stdout",
     "output_type": "stream",
     "text": [
      "Test set: Classification accuracy = 0.791647\n",
      "Test set: Balanced classification accuracy = 0.674878\n",
      "Test set: Disparate impact = 0.696583\n",
      "Test set: Equal opportunity difference = 0.028006\n",
      "Test set: Average odds difference = 0.014637\n",
      "Test set: Theil_index = 0.169147\n"
     ]
    }
   ],
   "source": [
    "# Metrics for the dataset from plain model (without debiasing)\n",
    "display(Markdown(\"#### Plain model - without debiasing - dataset metrics\"))\n",
    "metric_dataset_nodebiasing_train = BinaryLabelDatasetMetric(dataset_nodebiasing_train, \n",
    "                                             unprivileged_groups=unprivileged_groups,\n",
    "                                             privileged_groups=privileged_groups)\n",
    "\n",
    "print(\"Train set: Difference in mean outcomes between unprivileged and privileged groups = %f\" % metric_dataset_nodebiasing_train.mean_difference())\n",
    "\n",
    "metric_dataset_nodebiasing_test = BinaryLabelDatasetMetric(dataset_nodebiasing_test, \n",
    "                                             unprivileged_groups=unprivileged_groups,\n",
    "                                             privileged_groups=privileged_groups)\n",
    "\n",
    "print(\"Test set: Difference in mean outcomes between unprivileged and privileged groups = %f\" % metric_dataset_nodebiasing_test.mean_difference())\n",
    "\n",
    "display(Markdown(\"#### Plain model - without debiasing - classification metrics\"))\n",
    "classified_metric_nodebiasing_test = ClassificationMetric(dataset_orig_test, \n",
    "                                                 dataset_nodebiasing_test,\n",
    "                                                 unprivileged_groups=unprivileged_groups,\n",
    "                                                 privileged_groups=privileged_groups)\n",
    "print(\"Test set: Classification accuracy = %f\" % classified_metric_nodebiasing_test.accuracy())\n",
    "TPR = classified_metric_nodebiasing_test.true_positive_rate()\n",
    "TNR = classified_metric_nodebiasing_test.true_negative_rate()\n",
    "bal_acc_nodebiasing_test = 0.5*(TPR+TNR)\n",
    "print(\"Test set: Balanced classification accuracy = %f\" % bal_acc_nodebiasing_test)\n",
    "print(\"Test set: Disparate impact = %f\" % classified_metric_nodebiasing_test.disparate_impact())\n",
    "print(\"Test set: Equal opportunity difference = %f\" % classified_metric_nodebiasing_test.equal_opportunity_difference())\n",
    "print(\"Test set: Average odds difference = %f\" % classified_metric_nodebiasing_test.average_odds_difference())\n",
    "print(\"Test set: Theil_index = %f\" % classified_metric_nodebiasing_test.theil_index())"
   ]
  },
  {
   "cell_type": "markdown",
   "metadata": {},
   "source": [
    "### Apply in-processing algorithm based on adversarial learning"
   ]
  },
  {
   "cell_type": "code",
   "execution_count": 10,
   "metadata": {},
   "outputs": [],
   "source": [
    "sess.close()\n",
    "tf.reset_default_graph()\n",
    "sess = tf.Session()"
   ]
  },
  {
   "cell_type": "code",
   "execution_count": 11,
   "metadata": {},
   "outputs": [],
   "source": [
    "# Learn parameters with debias set to True\n",
    "debiased_model = AdversarialDebiasing(privileged_groups = privileged_groups,\n",
    "                          unprivileged_groups = unprivileged_groups,\n",
    "                          scope_name='debiased_classifier',\n",
    "                          debias=True,\n",
    "                          sess=sess)"
   ]
  },
  {
   "cell_type": "code",
   "execution_count": 12,
   "metadata": {
    "scrolled": true
   },
   "outputs": [
    {
     "name": "stdout",
     "output_type": "stream",
     "text": [
      "epoch 0; iter: 0; batch classifier loss: 0.739721; batch adversarial loss: 0.773381\n",
      "epoch 0; iter: 200; batch classifier loss: 0.468542; batch adversarial loss: 0.658523\n",
      "epoch 1; iter: 0; batch classifier loss: 0.445675; batch adversarial loss: 0.673082\n",
      "epoch 1; iter: 200; batch classifier loss: 0.470489; batch adversarial loss: 0.661288\n",
      "epoch 2; iter: 0; batch classifier loss: 0.451658; batch adversarial loss: 0.643053\n",
      "epoch 2; iter: 200; batch classifier loss: 0.399915; batch adversarial loss: 0.629459\n",
      "epoch 3; iter: 0; batch classifier loss: 0.387030; batch adversarial loss: 0.674765\n",
      "epoch 3; iter: 200; batch classifier loss: 0.427909; batch adversarial loss: 0.670880\n",
      "epoch 4; iter: 0; batch classifier loss: 0.422922; batch adversarial loss: 0.658850\n",
      "epoch 4; iter: 200; batch classifier loss: 0.437236; batch adversarial loss: 0.596988\n",
      "epoch 5; iter: 0; batch classifier loss: 0.409555; batch adversarial loss: 0.581211\n",
      "epoch 5; iter: 200; batch classifier loss: 0.400826; batch adversarial loss: 0.642534\n",
      "epoch 6; iter: 0; batch classifier loss: 0.426708; batch adversarial loss: 0.644518\n",
      "epoch 6; iter: 200; batch classifier loss: 0.406608; batch adversarial loss: 0.622338\n",
      "epoch 7; iter: 0; batch classifier loss: 0.453301; batch adversarial loss: 0.619814\n",
      "epoch 7; iter: 200; batch classifier loss: 0.323729; batch adversarial loss: 0.618557\n",
      "epoch 8; iter: 0; batch classifier loss: 0.500712; batch adversarial loss: 0.629180\n",
      "epoch 8; iter: 200; batch classifier loss: 0.422650; batch adversarial loss: 0.683254\n",
      "epoch 9; iter: 0; batch classifier loss: 0.467851; batch adversarial loss: 0.585322\n",
      "epoch 9; iter: 200; batch classifier loss: 0.507399; batch adversarial loss: 0.599108\n",
      "epoch 10; iter: 0; batch classifier loss: 0.412745; batch adversarial loss: 0.677588\n",
      "epoch 10; iter: 200; batch classifier loss: 0.415779; batch adversarial loss: 0.637227\n",
      "epoch 11; iter: 0; batch classifier loss: 0.431298; batch adversarial loss: 0.663504\n",
      "epoch 11; iter: 200; batch classifier loss: 0.446545; batch adversarial loss: 0.647337\n",
      "epoch 12; iter: 0; batch classifier loss: 0.439792; batch adversarial loss: 0.608318\n",
      "epoch 12; iter: 200; batch classifier loss: 0.518551; batch adversarial loss: 0.631476\n",
      "epoch 13; iter: 0; batch classifier loss: 0.439522; batch adversarial loss: 0.577154\n",
      "epoch 13; iter: 200; batch classifier loss: 0.576746; batch adversarial loss: 0.626720\n",
      "epoch 14; iter: 0; batch classifier loss: 0.480166; batch adversarial loss: 0.572789\n",
      "epoch 14; iter: 200; batch classifier loss: 0.436381; batch adversarial loss: 0.614638\n",
      "epoch 15; iter: 0; batch classifier loss: 0.342827; batch adversarial loss: 0.602887\n",
      "epoch 15; iter: 200; batch classifier loss: 0.429240; batch adversarial loss: 0.651099\n",
      "epoch 16; iter: 0; batch classifier loss: 0.556785; batch adversarial loss: 0.618270\n",
      "epoch 16; iter: 200; batch classifier loss: 0.437417; batch adversarial loss: 0.597050\n",
      "epoch 17; iter: 0; batch classifier loss: 0.497143; batch adversarial loss: 0.582055\n",
      "epoch 17; iter: 200; batch classifier loss: 0.382226; batch adversarial loss: 0.539684\n",
      "epoch 18; iter: 0; batch classifier loss: 0.369122; batch adversarial loss: 0.614786\n",
      "epoch 18; iter: 200; batch classifier loss: 0.443785; batch adversarial loss: 0.601464\n",
      "epoch 19; iter: 0; batch classifier loss: 0.424364; batch adversarial loss: 0.627011\n",
      "epoch 19; iter: 200; batch classifier loss: 0.479305; batch adversarial loss: 0.609107\n",
      "epoch 20; iter: 0; batch classifier loss: 0.462728; batch adversarial loss: 0.628088\n",
      "epoch 20; iter: 200; batch classifier loss: 0.485016; batch adversarial loss: 0.649608\n",
      "epoch 21; iter: 0; batch classifier loss: 0.480463; batch adversarial loss: 0.579131\n",
      "epoch 21; iter: 200; batch classifier loss: 0.460948; batch adversarial loss: 0.571961\n",
      "epoch 22; iter: 0; batch classifier loss: 0.409974; batch adversarial loss: 0.637998\n",
      "epoch 22; iter: 200; batch classifier loss: 0.377945; batch adversarial loss: 0.597843\n",
      "epoch 23; iter: 0; batch classifier loss: 0.464963; batch adversarial loss: 0.618918\n",
      "epoch 23; iter: 200; batch classifier loss: 0.492290; batch adversarial loss: 0.574495\n",
      "epoch 24; iter: 0; batch classifier loss: 0.367714; batch adversarial loss: 0.674786\n",
      "epoch 24; iter: 200; batch classifier loss: 0.476211; batch adversarial loss: 0.585312\n",
      "epoch 25; iter: 0; batch classifier loss: 0.409570; batch adversarial loss: 0.615023\n",
      "epoch 25; iter: 200; batch classifier loss: 0.424798; batch adversarial loss: 0.681494\n",
      "epoch 26; iter: 0; batch classifier loss: 0.408083; batch adversarial loss: 0.631839\n",
      "epoch 26; iter: 200; batch classifier loss: 0.499823; batch adversarial loss: 0.620949\n",
      "epoch 27; iter: 0; batch classifier loss: 0.485419; batch adversarial loss: 0.587145\n",
      "epoch 27; iter: 200; batch classifier loss: 0.453291; batch adversarial loss: 0.670752\n",
      "epoch 28; iter: 0; batch classifier loss: 0.423427; batch adversarial loss: 0.600494\n",
      "epoch 28; iter: 200; batch classifier loss: 0.453957; batch adversarial loss: 0.591616\n",
      "epoch 29; iter: 0; batch classifier loss: 0.546691; batch adversarial loss: 0.576434\n",
      "epoch 29; iter: 200; batch classifier loss: 0.430314; batch adversarial loss: 0.593938\n",
      "epoch 30; iter: 0; batch classifier loss: 0.348918; batch adversarial loss: 0.582564\n",
      "epoch 30; iter: 200; batch classifier loss: 0.489617; batch adversarial loss: 0.580910\n",
      "epoch 31; iter: 0; batch classifier loss: 0.421000; batch adversarial loss: 0.667090\n",
      "epoch 31; iter: 200; batch classifier loss: 0.472323; batch adversarial loss: 0.592653\n",
      "epoch 32; iter: 0; batch classifier loss: 0.541333; batch adversarial loss: 0.567866\n",
      "epoch 32; iter: 200; batch classifier loss: 0.426668; batch adversarial loss: 0.678606\n",
      "epoch 33; iter: 0; batch classifier loss: 0.483549; batch adversarial loss: 0.598439\n",
      "epoch 33; iter: 200; batch classifier loss: 0.509905; batch adversarial loss: 0.606702\n",
      "epoch 34; iter: 0; batch classifier loss: 0.480734; batch adversarial loss: 0.612175\n",
      "epoch 34; iter: 200; batch classifier loss: 0.437974; batch adversarial loss: 0.640367\n",
      "epoch 35; iter: 0; batch classifier loss: 0.466043; batch adversarial loss: 0.637820\n",
      "epoch 35; iter: 200; batch classifier loss: 0.462830; batch adversarial loss: 0.612127\n",
      "epoch 36; iter: 0; batch classifier loss: 0.442166; batch adversarial loss: 0.620762\n",
      "epoch 36; iter: 200; batch classifier loss: 0.466477; batch adversarial loss: 0.601012\n",
      "epoch 37; iter: 0; batch classifier loss: 0.402152; batch adversarial loss: 0.558621\n",
      "epoch 37; iter: 200; batch classifier loss: 0.498928; batch adversarial loss: 0.594865\n",
      "epoch 38; iter: 0; batch classifier loss: 0.409712; batch adversarial loss: 0.681785\n",
      "epoch 38; iter: 200; batch classifier loss: 0.431351; batch adversarial loss: 0.616749\n",
      "epoch 39; iter: 0; batch classifier loss: 0.421789; batch adversarial loss: 0.586357\n",
      "epoch 39; iter: 200; batch classifier loss: 0.412252; batch adversarial loss: 0.606480\n",
      "epoch 40; iter: 0; batch classifier loss: 0.418029; batch adversarial loss: 0.637095\n",
      "epoch 40; iter: 200; batch classifier loss: 0.419421; batch adversarial loss: 0.648119\n",
      "epoch 41; iter: 0; batch classifier loss: 0.384126; batch adversarial loss: 0.610330\n",
      "epoch 41; iter: 200; batch classifier loss: 0.462046; batch adversarial loss: 0.626051\n",
      "epoch 42; iter: 0; batch classifier loss: 0.384362; batch adversarial loss: 0.569616\n",
      "epoch 42; iter: 200; batch classifier loss: 0.435882; batch adversarial loss: 0.592035\n",
      "epoch 43; iter: 0; batch classifier loss: 0.357371; batch adversarial loss: 0.695459\n",
      "epoch 43; iter: 200; batch classifier loss: 0.486465; batch adversarial loss: 0.583327\n",
      "epoch 44; iter: 0; batch classifier loss: 0.429195; batch adversarial loss: 0.649180\n",
      "epoch 44; iter: 200; batch classifier loss: 0.442379; batch adversarial loss: 0.599044\n",
      "epoch 45; iter: 0; batch classifier loss: 0.408602; batch adversarial loss: 0.547158\n",
      "epoch 45; iter: 200; batch classifier loss: 0.439832; batch adversarial loss: 0.603179\n",
      "epoch 46; iter: 0; batch classifier loss: 0.490465; batch adversarial loss: 0.628287\n",
      "epoch 46; iter: 200; batch classifier loss: 0.464930; batch adversarial loss: 0.596839\n",
      "epoch 47; iter: 0; batch classifier loss: 0.406891; batch adversarial loss: 0.617676\n",
      "epoch 47; iter: 200; batch classifier loss: 0.466842; batch adversarial loss: 0.623782\n",
      "epoch 48; iter: 0; batch classifier loss: 0.429251; batch adversarial loss: 0.666500\n"
     ]
    },
    {
     "name": "stdout",
     "output_type": "stream",
     "text": [
      "epoch 48; iter: 200; batch classifier loss: 0.504438; batch adversarial loss: 0.596486\n",
      "epoch 49; iter: 0; batch classifier loss: 0.479306; batch adversarial loss: 0.639989\n",
      "epoch 49; iter: 200; batch classifier loss: 0.480676; batch adversarial loss: 0.575327\n"
     ]
    },
    {
     "data": {
      "text/plain": [
       "<aif360.algorithms.inprocessing.adversarial_debiasing.AdversarialDebiasing at 0x199c7e7fac8>"
      ]
     },
     "execution_count": 12,
     "metadata": {},
     "output_type": "execute_result"
    }
   ],
   "source": [
    "debiased_model.fit(dataset_orig_train)"
   ]
  },
  {
   "cell_type": "code",
   "execution_count": 13,
   "metadata": {},
   "outputs": [],
   "source": [
    "# Apply the plain model to test data\n",
    "dataset_debiasing_train = debiased_model.predict(dataset_orig_train)\n",
    "dataset_debiasing_test = debiased_model.predict(dataset_orig_test)"
   ]
  },
  {
   "cell_type": "code",
   "execution_count": 14,
   "metadata": {},
   "outputs": [
    {
     "data": {
      "text/markdown": [
       "#### Plain model - without debiasing - dataset metrics"
      ],
      "text/plain": [
       "<IPython.core.display.Markdown object>"
      ]
     },
     "metadata": {},
     "output_type": "display_data"
    },
    {
     "name": "stdout",
     "output_type": "stream",
     "text": [
      "Train set: Difference in mean outcomes between unprivileged and privileged groups = -0.066547\n",
      "Test set: Difference in mean outcomes between unprivileged and privileged groups = -0.062289\n"
     ]
    },
    {
     "data": {
      "text/markdown": [
       "#### Model - with debiasing - dataset metrics"
      ],
      "text/plain": [
       "<IPython.core.display.Markdown object>"
      ]
     },
     "metadata": {},
     "output_type": "display_data"
    },
    {
     "name": "stdout",
     "output_type": "stream",
     "text": [
      "Train set: Difference in mean outcomes between unprivileged and privileged groups = -0.064671\n",
      "Test set: Difference in mean outcomes between unprivileged and privileged groups = -0.070303\n"
     ]
    },
    {
     "data": {
      "text/markdown": [
       "#### Plain model - without debiasing - classification metrics"
      ],
      "text/plain": [
       "<IPython.core.display.Markdown object>"
      ]
     },
     "metadata": {},
     "output_type": "display_data"
    },
    {
     "name": "stdout",
     "output_type": "stream",
     "text": [
      "Test set: Classification accuracy = 0.791647\n",
      "Test set: Balanced classification accuracy = 0.674878\n",
      "Test set: Disparate impact = 0.696583\n",
      "Test set: Equal opportunity difference = 0.028006\n",
      "Test set: Average odds difference = 0.014637\n",
      "Test set: Theil_index = 0.169147\n"
     ]
    },
    {
     "data": {
      "text/markdown": [
       "#### Model - with debiasing - classification metrics"
      ],
      "text/plain": [
       "<IPython.core.display.Markdown object>"
      ]
     },
     "metadata": {},
     "output_type": "display_data"
    },
    {
     "name": "stdout",
     "output_type": "stream",
     "text": [
      "Test set: Classification accuracy = 0.793216\n",
      "Test set: Balanced classification accuracy = 0.675132\n",
      "Test set: Disparate impact = 0.657551\n",
      "Test set: Equal opportunity difference = 0.013245\n",
      "Test set: Average odds difference = 0.003673\n",
      "Test set: Theil_index = 0.169172\n"
     ]
    }
   ],
   "source": [
    "# Metrics for the dataset from plain model (without debiasing)\n",
    "display(Markdown(\"#### Plain model - without debiasing - dataset metrics\"))\n",
    "print(\"Train set: Difference in mean outcomes between unprivileged and privileged groups = %f\" % metric_dataset_nodebiasing_train.mean_difference())\n",
    "print(\"Test set: Difference in mean outcomes between unprivileged and privileged groups = %f\" % metric_dataset_nodebiasing_test.mean_difference())\n",
    "\n",
    "# Metrics for the dataset from model with debiasing\n",
    "display(Markdown(\"#### Model - with debiasing - dataset metrics\"))\n",
    "metric_dataset_debiasing_train = BinaryLabelDatasetMetric(dataset_debiasing_train, \n",
    "                                             unprivileged_groups=unprivileged_groups,\n",
    "                                             privileged_groups=privileged_groups)\n",
    "\n",
    "print(\"Train set: Difference in mean outcomes between unprivileged and privileged groups = %f\" % metric_dataset_debiasing_train.mean_difference())\n",
    "\n",
    "metric_dataset_debiasing_test = BinaryLabelDatasetMetric(dataset_debiasing_test, \n",
    "                                             unprivileged_groups=unprivileged_groups,\n",
    "                                             privileged_groups=privileged_groups)\n",
    "\n",
    "print(\"Test set: Difference in mean outcomes between unprivileged and privileged groups = %f\" % metric_dataset_debiasing_test.mean_difference())\n",
    "\n",
    "\n",
    "\n",
    "display(Markdown(\"#### Plain model - without debiasing - classification metrics\"))\n",
    "print(\"Test set: Classification accuracy = %f\" % classified_metric_nodebiasing_test.accuracy())\n",
    "TPR = classified_metric_nodebiasing_test.true_positive_rate()\n",
    "TNR = classified_metric_nodebiasing_test.true_negative_rate()\n",
    "bal_acc_nodebiasing_test = 0.5*(TPR+TNR)\n",
    "print(\"Test set: Balanced classification accuracy = %f\" % bal_acc_nodebiasing_test)\n",
    "print(\"Test set: Disparate impact = %f\" % classified_metric_nodebiasing_test.disparate_impact())\n",
    "print(\"Test set: Equal opportunity difference = %f\" % classified_metric_nodebiasing_test.equal_opportunity_difference())\n",
    "print(\"Test set: Average odds difference = %f\" % classified_metric_nodebiasing_test.average_odds_difference())\n",
    "print(\"Test set: Theil_index = %f\" % classified_metric_nodebiasing_test.theil_index())\n",
    "\n",
    "\n",
    "\n",
    "display(Markdown(\"#### Model - with debiasing - classification metrics\"))\n",
    "classified_metric_debiasing_test = ClassificationMetric(dataset_orig_test, \n",
    "                                                 dataset_debiasing_test,\n",
    "                                                 unprivileged_groups=unprivileged_groups,\n",
    "                                                 privileged_groups=privileged_groups)\n",
    "print(\"Test set: Classification accuracy = %f\" % classified_metric_debiasing_test.accuracy())\n",
    "TPR = classified_metric_debiasing_test.true_positive_rate()\n",
    "TNR = classified_metric_debiasing_test.true_negative_rate()\n",
    "bal_acc_debiasing_test = 0.5*(TPR+TNR)\n",
    "print(\"Test set: Balanced classification accuracy = %f\" % bal_acc_debiasing_test)\n",
    "print(\"Test set: Disparate impact = %f\" % classified_metric_debiasing_test.disparate_impact())\n",
    "print(\"Test set: Equal opportunity difference = %f\" % classified_metric_debiasing_test.equal_opportunity_difference())\n",
    "print(\"Test set: Average odds difference = %f\" % classified_metric_debiasing_test.average_odds_difference())\n",
    "print(\"Test set: Theil_index = %f\" % classified_metric_debiasing_test.theil_index())"
   ]
  },
  {
   "cell_type": "markdown",
   "metadata": {},
   "source": [
    "\n",
    "    References:\n",
    "    [1] B. H. Zhang, B. Lemoine, and M. Mitchell, \"Mitigating UnwantedBiases with Adversarial Learning,\" \n",
    "    AAAI/ACM Conference on Artificial Intelligence, Ethics, and Society, 2018."
   ]
  },
  {
   "cell_type": "code",
   "execution_count": null,
   "metadata": {},
   "outputs": [],
   "source": []
  }
 ],
 "metadata": {
  "kernelspec": {
   "display_name": "Python 3",
   "language": "python",
   "name": "python3"
  },
  "language_info": {
   "codemirror_mode": {
    "name": "ipython",
    "version": 3
   },
   "file_extension": ".py",
   "mimetype": "text/x-python",
   "name": "python",
   "nbconvert_exporter": "python",
   "pygments_lexer": "ipython3",
   "version": "3.7.7"
  }
 },
 "nbformat": 4,
 "nbformat_minor": 2
}
